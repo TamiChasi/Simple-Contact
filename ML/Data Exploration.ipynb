{
 "cells": [
  {
   "cell_type": "markdown",
   "metadata": {},
   "source": [
    "# Data Exploration"
   ]
  },
  {
   "cell_type": "code",
   "execution_count": 1,
   "metadata": {
    "scrolled": true
   },
   "outputs": [
    {
     "name": "stderr",
     "output_type": "stream",
     "text": [
      "C:\\Users\\Tami\\Anaconda3\\lib\\site-packages\\IPython\\core\\interactiveshell.py:2785: DtypeWarning: Columns (4,5,6,11,16) have mixed types. Specify dtype option on import or set low_memory=False.\n",
      "  interactivity=interactivity, compiler=compiler, result=result)\n"
     ]
    }
   ],
   "source": [
    "import pandas as pd\n",
    "\n",
    "df= pd.DataFrame()\n",
    "df = pd.read_csv('Consumer_Complaints.csv')\n"
   ]
  },
  {
   "cell_type": "code",
   "execution_count": 2,
   "metadata": {},
   "outputs": [
    {
     "data": {
      "text/plain": [
       "0                                            Debt collection\n",
       "1          Credit reporting, credit repair services, or o...\n",
       "2                                            Debt collection\n",
       "3                                            Debt collection\n",
       "4                                                   Mortgage\n",
       "5                                            Debt collection\n",
       "6                                            Debt collection\n",
       "7                                Checking or savings account\n",
       "8                                            Debt collection\n",
       "9                                      Vehicle loan or lease\n",
       "10         Credit reporting, credit repair services, or o...\n",
       "11                                           Debt collection\n",
       "12                                           Debt collection\n",
       "13                                           Debt collection\n",
       "14         Credit reporting, credit repair services, or o...\n",
       "15                                           Debt collection\n",
       "16                                           Debt collection\n",
       "17                                           Debt collection\n",
       "18                                           Debt collection\n",
       "19                                           Debt collection\n",
       "20                               Credit card or prepaid card\n",
       "21         Credit reporting, credit repair services, or o...\n",
       "22         Credit reporting, credit repair services, or o...\n",
       "23                                           Debt collection\n",
       "24                                           Debt collection\n",
       "25         Credit reporting, credit repair services, or o...\n",
       "26                                                  Mortgage\n",
       "27         Credit reporting, credit repair services, or o...\n",
       "28                                           Debt collection\n",
       "29                                           Debt collection\n",
       "                                 ...                        \n",
       "1182371                                          Credit card\n",
       "1182372                                          Credit card\n",
       "1182373                                          Credit card\n",
       "1182374                                          Credit card\n",
       "1182375                                          Credit card\n",
       "1182376                                             Mortgage\n",
       "1182377                                             Mortgage\n",
       "1182378                                          Credit card\n",
       "1182379                                             Mortgage\n",
       "1182380                                             Mortgage\n",
       "1182381                                          Credit card\n",
       "1182382                                          Credit card\n",
       "1182383                                          Credit card\n",
       "1182384                                          Credit card\n",
       "1182385                                             Mortgage\n",
       "1182386                                          Credit card\n",
       "1182387                                          Credit card\n",
       "1182388                                          Credit card\n",
       "1182389                                          Credit card\n",
       "1182390                                          Credit card\n",
       "1182391                                          Credit card\n",
       "1182392                                          Credit card\n",
       "1182393                                             Mortgage\n",
       "1182394                                          Credit card\n",
       "1182395                                          Credit card\n",
       "1182396                                          Credit card\n",
       "1182397                                          Credit card\n",
       "1182398                                          Credit card\n",
       "1182399                                          Credit card\n",
       "1182400                                          Credit card\n",
       "Name: Product, Length: 1182401, dtype: object"
      ]
     },
     "execution_count": 2,
     "metadata": {},
     "output_type": "execute_result"
    }
   ],
   "source": [
    "df.Product"
   ]
  },
  {
   "cell_type": "markdown",
   "metadata": {},
   "source": [
    "#### הצגת הכותרות בכל רשומה"
   ]
  },
  {
   "cell_type": "code",
   "execution_count": 3,
   "metadata": {},
   "outputs": [
    {
     "data": {
      "text/plain": [
       "Index(['Date received', 'Product', 'Sub-product', 'Issue', 'Sub-issue',\n",
       "       'Consumer complaint narrative', 'Company public response', 'Company',\n",
       "       'State', 'ZIP code', 'Tags', 'Consumer consent provided?',\n",
       "       'Submitted via', 'Date sent to company', 'Company response to consumer',\n",
       "       'Timely response?', 'Consumer disputed?', 'Complaint ID'],\n",
       "      dtype='object')"
      ]
     },
     "execution_count": 3,
     "metadata": {},
     "output_type": "execute_result"
    }
   ],
   "source": [
    "df.columns"
   ]
  },
  {
   "cell_type": "markdown",
   "metadata": {},
   "source": [
    "#### נרמול המאגר - מחיקת רשמות ללא פרוט התלונה"
   ]
  },
  {
   "cell_type": "code",
   "execution_count": 4,
   "metadata": {
    "scrolled": true
   },
   "outputs": [
    {
     "data": {
      "text/html": [
       "<div>\n",
       "<style scoped>\n",
       "    .dataframe tbody tr th:only-of-type {\n",
       "        vertical-align: middle;\n",
       "    }\n",
       "\n",
       "    .dataframe tbody tr th {\n",
       "        vertical-align: top;\n",
       "    }\n",
       "\n",
       "    .dataframe thead th {\n",
       "        text-align: right;\n",
       "    }\n",
       "</style>\n",
       "<table border=\"1\" class=\"dataframe\">\n",
       "  <thead>\n",
       "    <tr style=\"text-align: right;\">\n",
       "      <th></th>\n",
       "      <th>Consumer complaint narrative</th>\n",
       "      <th>Product</th>\n",
       "    </tr>\n",
       "  </thead>\n",
       "  <tbody>\n",
       "    <tr>\n",
       "      <th>225</th>\n",
       "      <td>Im in complete shock about this negative item ...</td>\n",
       "      <td>Debt collection</td>\n",
       "    </tr>\n",
       "    <tr>\n",
       "      <th>249</th>\n",
       "      <td>This so called receivable performance Fraudule...</td>\n",
       "      <td>Debt collection</td>\n",
       "    </tr>\n",
       "    <tr>\n",
       "      <th>287</th>\n",
       "      <td>Creditor Information MONTEREY COLL SVC XXXX XX...</td>\n",
       "      <td>Credit reporting, credit repair services, or o...</td>\n",
       "    </tr>\n",
       "    <tr>\n",
       "      <th>331</th>\n",
       "      <td>Elite Financial has contacted myself and my fi...</td>\n",
       "      <td>Debt collection</td>\n",
       "    </tr>\n",
       "    <tr>\n",
       "      <th>534</th>\n",
       "      <td>I had sought to have some erroneous reporting ...</td>\n",
       "      <td>Credit reporting, credit repair services, or o...</td>\n",
       "    </tr>\n",
       "    <tr>\n",
       "      <th>538</th>\n",
       "      <td>Ever since XXXX had a breach of their system t...</td>\n",
       "      <td>Credit reporting, credit repair services, or o...</td>\n",
       "    </tr>\n",
       "    <tr>\n",
       "      <th>665</th>\n",
       "      <td>On XX/XX/2018 an inquiry was made by XXXX cred...</td>\n",
       "      <td>Credit reporting, credit repair services, or o...</td>\n",
       "    </tr>\n",
       "    <tr>\n",
       "      <th>781</th>\n",
       "      <td>XX/XX/2018 I obtained XXXX as my mobile servic...</td>\n",
       "      <td>Debt collection</td>\n",
       "    </tr>\n",
       "    <tr>\n",
       "      <th>802</th>\n",
       "      <td>Several companies listed inquires on my report...</td>\n",
       "      <td>Credit reporting, credit repair services, or o...</td>\n",
       "    </tr>\n",
       "    <tr>\n",
       "      <th>875</th>\n",
       "      <td>My loan was purchased by Freedom Mortgage in X...</td>\n",
       "      <td>Mortgage</td>\n",
       "    </tr>\n",
       "    <tr>\n",
       "      <th>914</th>\n",
       "      <td>Positive credit account not reporting for XXXX...</td>\n",
       "      <td>Credit reporting, credit repair services, or o...</td>\n",
       "    </tr>\n",
       "    <tr>\n",
       "      <th>935</th>\n",
       "      <td>I am concerned about the validity and accuracy...</td>\n",
       "      <td>Debt collection</td>\n",
       "    </tr>\n",
       "    <tr>\n",
       "      <th>943</th>\n",
       "      <td>This specific debt collection agency ( United ...</td>\n",
       "      <td>Debt collection</td>\n",
       "    </tr>\n",
       "    <tr>\n",
       "      <th>1007</th>\n",
       "      <td>In the year of XX/XX/2012 I beleive, I was gra...</td>\n",
       "      <td>Credit card or prepaid card</td>\n",
       "    </tr>\n",
       "    <tr>\n",
       "      <th>1088</th>\n",
       "      <td>I am absolutely in disbelief that there are so...</td>\n",
       "      <td>Credit reporting, credit repair services, or o...</td>\n",
       "    </tr>\n",
       "    <tr>\n",
       "      <th>1089</th>\n",
       "      <td>My Fico score is innacurately showing XXXX. It...</td>\n",
       "      <td>Credit reporting, credit repair services, or o...</td>\n",
       "    </tr>\n",
       "    <tr>\n",
       "      <th>1138</th>\n",
       "      <td>I contacted transunion through a certified let...</td>\n",
       "      <td>Credit reporting, credit repair services, or o...</td>\n",
       "    </tr>\n",
       "    <tr>\n",
       "      <th>1181</th>\n",
       "      <td>I received a notice from synergetic communicat...</td>\n",
       "      <td>Debt collection</td>\n",
       "    </tr>\n",
       "    <tr>\n",
       "      <th>1198</th>\n",
       "      <td>I have been trying to delete this 2 past due p...</td>\n",
       "      <td>Credit reporting, credit repair services, or o...</td>\n",
       "    </tr>\n",
       "    <tr>\n",
       "      <th>1207</th>\n",
       "      <td>ON XX/XX/2018 I WENT INTO XXXX  XXXX XXXX TO T...</td>\n",
       "      <td>Credit reporting, credit repair services, or o...</td>\n",
       "    </tr>\n",
       "    <tr>\n",
       "      <th>1209</th>\n",
       "      <td>I would like to request a security freeze plac...</td>\n",
       "      <td>Credit reporting, credit repair services, or o...</td>\n",
       "    </tr>\n",
       "    <tr>\n",
       "      <th>1213</th>\n",
       "      <td>I have been trying to delete this 2 past due p...</td>\n",
       "      <td>Credit reporting, credit repair services, or o...</td>\n",
       "    </tr>\n",
       "    <tr>\n",
       "      <th>1281</th>\n",
       "      <td>XXXX - I enrolled in XXXX  's XXXX credit secu...</td>\n",
       "      <td>Credit card or prepaid card</td>\n",
       "    </tr>\n",
       "    <tr>\n",
       "      <th>1301</th>\n",
       "      <td>I was a tenant at XXXX XXXX XXXX in XXXX. I ac...</td>\n",
       "      <td>Debt collection</td>\n",
       "    </tr>\n",
       "    <tr>\n",
       "      <th>1316</th>\n",
       "      <td>This company unlawfully inserted information o...</td>\n",
       "      <td>Credit reporting, credit repair services, or o...</td>\n",
       "    </tr>\n",
       "    <tr>\n",
       "      <th>1328</th>\n",
       "      <td>I have repeatedly tried to fix this problem wi...</td>\n",
       "      <td>Debt collection</td>\n",
       "    </tr>\n",
       "    <tr>\n",
       "      <th>1332</th>\n",
       "      <td>I previously notified you that I am a victim o...</td>\n",
       "      <td>Debt collection</td>\n",
       "    </tr>\n",
       "    <tr>\n",
       "      <th>1334</th>\n",
       "      <td>On XX/XX/2018 at XXXX XXXX XXXX we received a ...</td>\n",
       "      <td>Debt collection</td>\n",
       "    </tr>\n",
       "    <tr>\n",
       "      <th>1336</th>\n",
       "      <td>Made several attempts to resolve this issue bu...</td>\n",
       "      <td>Debt collection</td>\n",
       "    </tr>\n",
       "    <tr>\n",
       "      <th>1337</th>\n",
       "      <td>On XXXX I pulled my three bureau credit report...</td>\n",
       "      <td>Debt collection</td>\n",
       "    </tr>\n",
       "    <tr>\n",
       "      <th>...</th>\n",
       "      <td>...</td>\n",
       "      <td>...</td>\n",
       "    </tr>\n",
       "    <tr>\n",
       "      <th>812406</th>\n",
       "      <td>I have an open and current mortgage with Chase...</td>\n",
       "      <td>Mortgage</td>\n",
       "    </tr>\n",
       "    <tr>\n",
       "      <th>812408</th>\n",
       "      <td>Experian refused to provide free annual credit...</td>\n",
       "      <td>Credit reporting</td>\n",
       "    </tr>\n",
       "    <tr>\n",
       "      <th>812410</th>\n",
       "      <td>A XXXX Telemarketer claiming to be from Midlan...</td>\n",
       "      <td>Debt collection</td>\n",
       "    </tr>\n",
       "    <tr>\n",
       "      <th>812412</th>\n",
       "      <td>My letter to MCM - Midland Credit Management ,...</td>\n",
       "      <td>Debt collection</td>\n",
       "    </tr>\n",
       "    <tr>\n",
       "      <th>812414</th>\n",
       "      <td>This company continues to report on my credit ...</td>\n",
       "      <td>Debt collection</td>\n",
       "    </tr>\n",
       "    <tr>\n",
       "      <th>812416</th>\n",
       "      <td>Shellpoint Mortgage did not pay hazard insuran...</td>\n",
       "      <td>Mortgage</td>\n",
       "    </tr>\n",
       "    <tr>\n",
       "      <th>812418</th>\n",
       "      <td>I have never received any letter/documents fro...</td>\n",
       "      <td>Debt collection</td>\n",
       "    </tr>\n",
       "    <tr>\n",
       "      <th>812420</th>\n",
       "      <td>I was charged a fee both when I spoke with XXX...</td>\n",
       "      <td>Mortgage</td>\n",
       "    </tr>\n",
       "    <tr>\n",
       "      <th>812422</th>\n",
       "      <td>I have submitted XXXX disputes to Trans Union ...</td>\n",
       "      <td>Credit reporting</td>\n",
       "    </tr>\n",
       "    <tr>\n",
       "      <th>812424</th>\n",
       "      <td>I have a contract with a guy whom has an accou...</td>\n",
       "      <td>Bank account or service</td>\n",
       "    </tr>\n",
       "    <tr>\n",
       "      <th>812426</th>\n",
       "      <td>I mailed off several complaints to different a...</td>\n",
       "      <td>Debt collection</td>\n",
       "    </tr>\n",
       "    <tr>\n",
       "      <th>812428</th>\n",
       "      <td>I 'm receiving calls from a company who will n...</td>\n",
       "      <td>Payday loan</td>\n",
       "    </tr>\n",
       "    <tr>\n",
       "      <th>812430</th>\n",
       "      <td>My HAMP loan was transferred to CitiMortgage a...</td>\n",
       "      <td>Mortgage</td>\n",
       "    </tr>\n",
       "    <tr>\n",
       "      <th>812432</th>\n",
       "      <td>We made several attempts to speak to someone a...</td>\n",
       "      <td>Debt collection</td>\n",
       "    </tr>\n",
       "    <tr>\n",
       "      <th>812434</th>\n",
       "      <td>I have been trying to get an audit of my accou...</td>\n",
       "      <td>Mortgage</td>\n",
       "    </tr>\n",
       "    <tr>\n",
       "      <th>812436</th>\n",
       "      <td>This dentist appt was back in 2012 and I was u...</td>\n",
       "      <td>Debt collection</td>\n",
       "    </tr>\n",
       "    <tr>\n",
       "      <th>812438</th>\n",
       "      <td>Around XXXX we consolidated our loans and paid...</td>\n",
       "      <td>Consumer Loan</td>\n",
       "    </tr>\n",
       "    <tr>\n",
       "      <th>812440</th>\n",
       "      <td>Citibank is calling and harassing me. I do not...</td>\n",
       "      <td>Credit card</td>\n",
       "    </tr>\n",
       "    <tr>\n",
       "      <th>812442</th>\n",
       "      <td>Due to financial hardship, I have been unable ...</td>\n",
       "      <td>Student loan</td>\n",
       "    </tr>\n",
       "    <tr>\n",
       "      <th>812444</th>\n",
       "      <td>I have a car loan that I have paid over $ 8k b...</td>\n",
       "      <td>Consumer Loan</td>\n",
       "    </tr>\n",
       "    <tr>\n",
       "      <th>812446</th>\n",
       "      <td>I had a mortgage with XXXX XXXX XXXX from XXXX...</td>\n",
       "      <td>Mortgage</td>\n",
       "    </tr>\n",
       "    <tr>\n",
       "      <th>812448</th>\n",
       "      <td>I was studying in the XXXX last year and opene...</td>\n",
       "      <td>Bank account or service</td>\n",
       "    </tr>\n",
       "    <tr>\n",
       "      <th>812450</th>\n",
       "      <td>I have paid all copays and just rec 'd a bill ...</td>\n",
       "      <td>Debt collection</td>\n",
       "    </tr>\n",
       "    <tr>\n",
       "      <th>812452</th>\n",
       "      <td>My husband lost his job in XX/XX/XXXX and was ...</td>\n",
       "      <td>Student loan</td>\n",
       "    </tr>\n",
       "    <tr>\n",
       "      <th>812454</th>\n",
       "      <td>I feel behind on my credit card bills due to e...</td>\n",
       "      <td>Credit card</td>\n",
       "    </tr>\n",
       "    <tr>\n",
       "      <th>812456</th>\n",
       "      <td>In late XX/XX/XXXX or early XX/XX/XXXX I recei...</td>\n",
       "      <td>Credit card</td>\n",
       "    </tr>\n",
       "    <tr>\n",
       "      <th>812458</th>\n",
       "      <td>I have been receiving repeated calls from a pr...</td>\n",
       "      <td>Debt collection</td>\n",
       "    </tr>\n",
       "    <tr>\n",
       "      <th>812460</th>\n",
       "      <td>I never took any loan out, ever, from the comp...</td>\n",
       "      <td>Debt collection</td>\n",
       "    </tr>\n",
       "    <tr>\n",
       "      <th>812462</th>\n",
       "      <td>Castle Credit corporation, XXXX XXXX XXXX XXXX...</td>\n",
       "      <td>Consumer Loan</td>\n",
       "    </tr>\n",
       "    <tr>\n",
       "      <th>812464</th>\n",
       "      <td>I am writing this letter because my mortgage a...</td>\n",
       "      <td>Mortgage</td>\n",
       "    </tr>\n",
       "  </tbody>\n",
       "</table>\n",
       "<p>350651 rows × 2 columns</p>\n",
       "</div>"
      ],
      "text/plain": [
       "                             Consumer complaint narrative  \\\n",
       "225     Im in complete shock about this negative item ...   \n",
       "249     This so called receivable performance Fraudule...   \n",
       "287     Creditor Information MONTEREY COLL SVC XXXX XX...   \n",
       "331     Elite Financial has contacted myself and my fi...   \n",
       "534     I had sought to have some erroneous reporting ...   \n",
       "538     Ever since XXXX had a breach of their system t...   \n",
       "665     On XX/XX/2018 an inquiry was made by XXXX cred...   \n",
       "781     XX/XX/2018 I obtained XXXX as my mobile servic...   \n",
       "802     Several companies listed inquires on my report...   \n",
       "875     My loan was purchased by Freedom Mortgage in X...   \n",
       "914     Positive credit account not reporting for XXXX...   \n",
       "935     I am concerned about the validity and accuracy...   \n",
       "943     This specific debt collection agency ( United ...   \n",
       "1007    In the year of XX/XX/2012 I beleive, I was gra...   \n",
       "1088    I am absolutely in disbelief that there are so...   \n",
       "1089    My Fico score is innacurately showing XXXX. It...   \n",
       "1138    I contacted transunion through a certified let...   \n",
       "1181    I received a notice from synergetic communicat...   \n",
       "1198    I have been trying to delete this 2 past due p...   \n",
       "1207    ON XX/XX/2018 I WENT INTO XXXX  XXXX XXXX TO T...   \n",
       "1209    I would like to request a security freeze plac...   \n",
       "1213    I have been trying to delete this 2 past due p...   \n",
       "1281    XXXX - I enrolled in XXXX  's XXXX credit secu...   \n",
       "1301    I was a tenant at XXXX XXXX XXXX in XXXX. I ac...   \n",
       "1316    This company unlawfully inserted information o...   \n",
       "1328    I have repeatedly tried to fix this problem wi...   \n",
       "1332    I previously notified you that I am a victim o...   \n",
       "1334    On XX/XX/2018 at XXXX XXXX XXXX we received a ...   \n",
       "1336    Made several attempts to resolve this issue bu...   \n",
       "1337    On XXXX I pulled my three bureau credit report...   \n",
       "...                                                   ...   \n",
       "812406  I have an open and current mortgage with Chase...   \n",
       "812408  Experian refused to provide free annual credit...   \n",
       "812410  A XXXX Telemarketer claiming to be from Midlan...   \n",
       "812412  My letter to MCM - Midland Credit Management ,...   \n",
       "812414  This company continues to report on my credit ...   \n",
       "812416  Shellpoint Mortgage did not pay hazard insuran...   \n",
       "812418  I have never received any letter/documents fro...   \n",
       "812420  I was charged a fee both when I spoke with XXX...   \n",
       "812422  I have submitted XXXX disputes to Trans Union ...   \n",
       "812424  I have a contract with a guy whom has an accou...   \n",
       "812426  I mailed off several complaints to different a...   \n",
       "812428  I 'm receiving calls from a company who will n...   \n",
       "812430  My HAMP loan was transferred to CitiMortgage a...   \n",
       "812432  We made several attempts to speak to someone a...   \n",
       "812434  I have been trying to get an audit of my accou...   \n",
       "812436  This dentist appt was back in 2012 and I was u...   \n",
       "812438  Around XXXX we consolidated our loans and paid...   \n",
       "812440  Citibank is calling and harassing me. I do not...   \n",
       "812442  Due to financial hardship, I have been unable ...   \n",
       "812444  I have a car loan that I have paid over $ 8k b...   \n",
       "812446  I had a mortgage with XXXX XXXX XXXX from XXXX...   \n",
       "812448  I was studying in the XXXX last year and opene...   \n",
       "812450  I have paid all copays and just rec 'd a bill ...   \n",
       "812452  My husband lost his job in XX/XX/XXXX and was ...   \n",
       "812454  I feel behind on my credit card bills due to e...   \n",
       "812456  In late XX/XX/XXXX or early XX/XX/XXXX I recei...   \n",
       "812458  I have been receiving repeated calls from a pr...   \n",
       "812460  I never took any loan out, ever, from the comp...   \n",
       "812462  Castle Credit corporation, XXXX XXXX XXXX XXXX...   \n",
       "812464  I am writing this letter because my mortgage a...   \n",
       "\n",
       "                                                  Product  \n",
       "225                                       Debt collection  \n",
       "249                                       Debt collection  \n",
       "287     Credit reporting, credit repair services, or o...  \n",
       "331                                       Debt collection  \n",
       "534     Credit reporting, credit repair services, or o...  \n",
       "538     Credit reporting, credit repair services, or o...  \n",
       "665     Credit reporting, credit repair services, or o...  \n",
       "781                                       Debt collection  \n",
       "802     Credit reporting, credit repair services, or o...  \n",
       "875                                              Mortgage  \n",
       "914     Credit reporting, credit repair services, or o...  \n",
       "935                                       Debt collection  \n",
       "943                                       Debt collection  \n",
       "1007                          Credit card or prepaid card  \n",
       "1088    Credit reporting, credit repair services, or o...  \n",
       "1089    Credit reporting, credit repair services, or o...  \n",
       "1138    Credit reporting, credit repair services, or o...  \n",
       "1181                                      Debt collection  \n",
       "1198    Credit reporting, credit repair services, or o...  \n",
       "1207    Credit reporting, credit repair services, or o...  \n",
       "1209    Credit reporting, credit repair services, or o...  \n",
       "1213    Credit reporting, credit repair services, or o...  \n",
       "1281                          Credit card or prepaid card  \n",
       "1301                                      Debt collection  \n",
       "1316    Credit reporting, credit repair services, or o...  \n",
       "1328                                      Debt collection  \n",
       "1332                                      Debt collection  \n",
       "1334                                      Debt collection  \n",
       "1336                                      Debt collection  \n",
       "1337                                      Debt collection  \n",
       "...                                                   ...  \n",
       "812406                                           Mortgage  \n",
       "812408                                   Credit reporting  \n",
       "812410                                    Debt collection  \n",
       "812412                                    Debt collection  \n",
       "812414                                    Debt collection  \n",
       "812416                                           Mortgage  \n",
       "812418                                    Debt collection  \n",
       "812420                                           Mortgage  \n",
       "812422                                   Credit reporting  \n",
       "812424                            Bank account or service  \n",
       "812426                                    Debt collection  \n",
       "812428                                        Payday loan  \n",
       "812430                                           Mortgage  \n",
       "812432                                    Debt collection  \n",
       "812434                                           Mortgage  \n",
       "812436                                    Debt collection  \n",
       "812438                                      Consumer Loan  \n",
       "812440                                        Credit card  \n",
       "812442                                       Student loan  \n",
       "812444                                      Consumer Loan  \n",
       "812446                                           Mortgage  \n",
       "812448                            Bank account or service  \n",
       "812450                                    Debt collection  \n",
       "812452                                       Student loan  \n",
       "812454                                        Credit card  \n",
       "812456                                        Credit card  \n",
       "812458                                    Debt collection  \n",
       "812460                                    Debt collection  \n",
       "812462                                      Consumer Loan  \n",
       "812464                                           Mortgage  \n",
       "\n",
       "[350651 rows x 2 columns]"
      ]
     },
     "execution_count": 4,
     "metadata": {},
     "output_type": "execute_result"
    }
   ],
   "source": [
    "df = df.loc[df['Consumer complaint narrative'] > ' ' ,['Consumer complaint narrative', 'Product']]\n",
    "df"
   ]
  },
  {
   "cell_type": "code",
   "execution_count": 5,
   "metadata": {},
   "outputs": [
    {
     "name": "stdout",
     "output_type": "stream",
     "text": [
      "Consumer complaint narrative    0\n",
      "Product                         0\n",
      "dtype: int64\n"
     ]
    }
   ],
   "source": [
    "# בדיקה\n",
    "print(df.isnull().sum())\n"
   ]
  },
  {
   "cell_type": "markdown",
   "metadata": {},
   "source": [
    "#### גודל המאגר הרלוונטי"
   ]
  },
  {
   "cell_type": "code",
   "execution_count": 6,
   "metadata": {},
   "outputs": [
    {
     "name": "stdout",
     "output_type": "stream",
     "text": [
      "(350651, 2)\n"
     ]
    },
    {
     "data": {
      "text/plain": [
       "Debt collection                                                                 79881\n",
       "Credit reporting, credit repair services, or other personal consumer reports    78573\n",
       "Mortgage                                                                        50259\n",
       "Credit reporting                                                                31588\n",
       "Student loan                                                                    20090\n",
       "Credit card                                                                     18838\n",
       "Credit card or prepaid card                                                     18036\n",
       "Bank account or service                                                         14885\n",
       "Checking or savings account                                                     10769\n",
       "Consumer Loan                                                                    9474\n",
       "Vehicle loan or lease                                                            4816\n",
       "Money transfer, virtual currency, or money service                               4749\n",
       "Payday loan, title loan, or personal loan                                        3691\n",
       "Payday loan                                                                      1747\n",
       "Money transfers                                                                  1497\n",
       "Prepaid card                                                                     1450\n",
       "Other financial service                                                           292\n",
       "Virtual currency                                                                   16\n",
       "Name: Product, dtype: int64"
      ]
     },
     "execution_count": 6,
     "metadata": {},
     "output_type": "execute_result"
    }
   ],
   "source": [
    " print(df.shape)\n",
    "df['Product'].value_counts()    "
   ]
  },
  {
   "cell_type": "code",
   "execution_count": 7,
   "metadata": {},
   "outputs": [
    {
     "data": {
      "text/plain": [
       "Debt collection                                                                 79881\n",
       "Credit reporting, credit repair services, or other personal consumer reports    78573\n",
       "Mortgage                                                                        50259\n",
       "Credit reporting                                                                31588\n",
       "Student loan                                                                    20090\n",
       "Credit card                                                                     18838\n",
       "Credit card or prepaid card                                                     18036\n",
       "Bank account or service                                                         14885\n",
       "Checking or savings account                                                     10769\n",
       "Consumer Loan                                                                    9474\n",
       "Vehicle loan or lease                                                            4816\n",
       "Money transfer, virtual currency, or money service                               4749\n",
       "Payday loan, title loan, or personal loan                                        3691\n",
       "Payday loan                                                                      1747\n",
       "Money transfers                                                                  1497\n",
       "Prepaid card                                                                     1450\n",
       "Other financial service                                                           292\n",
       "Virtual currency                                                                   16\n",
       "Name: Product, dtype: int64"
      ]
     },
     "execution_count": 7,
     "metadata": {},
     "output_type": "execute_result"
    }
   ],
   "source": [
    "df['Product'].value_counts() "
   ]
  },
  {
   "cell_type": "code",
   "execution_count": null,
   "metadata": {},
   "outputs": [],
   "source": []
  },
  {
   "cell_type": "markdown",
   "metadata": {},
   "source": [
    "## תצוגה גרפית:"
   ]
  },
  {
   "cell_type": "code",
   "execution_count": 24,
   "metadata": {
    "scrolled": true
   },
   "outputs": [
    {
     "ename": "AttributeError",
     "evalue": "'numpy.int32' object has no attribute 'plot'",
     "output_type": "error",
     "traceback": [
      "\u001b[1;31m---------------------------------------------------------------------------\u001b[0m",
      "\u001b[1;31mAttributeError\u001b[0m                            Traceback (most recent call last)",
      "\u001b[1;32m<ipython-input-24-e8f78589ee02>\u001b[0m in \u001b[0;36m<module>\u001b[1;34m()\u001b[0m\n\u001b[0;32m      1\u001b[0m \u001b[1;32mimport\u001b[0m \u001b[0mmatplotlib\u001b[0m\u001b[1;33m.\u001b[0m\u001b[0mpyplot\u001b[0m \u001b[1;32mas\u001b[0m \u001b[0mplt\u001b[0m\u001b[1;33m\u001b[0m\u001b[0m\n\u001b[1;32m----> 2\u001b[1;33m \u001b[0mdf\u001b[0m\u001b[1;33m[\u001b[0m\u001b[1;34m'Consumer complaint narrative'\u001b[0m\u001b[1;33m]\u001b[0m\u001b[1;33m.\u001b[0m\u001b[0mcount\u001b[0m\u001b[1;33m(\u001b[0m\u001b[1;33m)\u001b[0m\u001b[1;33m.\u001b[0m\u001b[0mplot\u001b[0m\u001b[1;33m.\u001b[0m\u001b[0mbar\u001b[0m\u001b[1;33m(\u001b[0m\u001b[1;33m)\u001b[0m\u001b[1;33m\u001b[0m\u001b[0m\n\u001b[0m\u001b[0;32m      3\u001b[0m \u001b[0mplt\u001b[0m\u001b[1;33m.\u001b[0m\u001b[0mshow\u001b[0m\u001b[1;33m(\u001b[0m\u001b[1;33m)\u001b[0m\u001b[1;33m\u001b[0m\u001b[0m\n",
      "\u001b[1;31mAttributeError\u001b[0m: 'numpy.int32' object has no attribute 'plot'"
     ]
    }
   ],
   "source": [
    "import matplotlib.pyplot as plt\n",
    "df.groupby('Product')['Consumer complaint narrative'].count().plot.bar()\n",
    "plt.show()"
   ]
  },
  {
   "cell_type": "code",
   "execution_count": 26,
   "metadata": {},
   "outputs": [
    {
     "data": {
      "text/plain": [
       "<matplotlib.axes._subplots.AxesSubplot at 0x1a4823d4048>"
      ]
     },
     "execution_count": 26,
     "metadata": {},
     "output_type": "execute_result"
    },
    {
     "data": {
      "image/png": "[encoded data removed]",
      "text/plain": [
       "<Figure size 432x288 with 1 Axes>"
      ]
     },
     "metadata": {
      "needs_background": "light"
     },
     "output_type": "display_data"
    }
   ],
   "source": [
    "\n",
    "df['Product'].value_counts().plot(kind='bar')"
   ]
  },
  {
   "cell_type": "code",
   "execution_count": null,
   "metadata": {},
   "outputs": [],
   "source": []
  },
  {
   "cell_type": "code",
   "execution_count": 10,
   "metadata": {
    "scrolled": false
   },
   "outputs": [
    {
     "data": {
      "image/png": "[encoded data removed]",
      "text/plain": [
       "<Figure size 576x432 with 1 Axes>"
      ]
     },
     "metadata": {},
     "output_type": "display_data"
    }
   ],
   "source": [
    "fig = plt.figure(figsize=(8,6))\n",
    "df.groupby('Product')['Consumer complaint narrative'].count().plot.pie(ylim=0)\n",
    "plt.show()"
   ]
  },
  {
   "cell_type": "code",
   "execution_count": 11,
   "metadata": {},
   "outputs": [
    {
     "data": {
      "text/plain": [
       "<matplotlib.axes._subplots.AxesSubplot at 0x1eedc9eb908>"
      ]
     },
     "execution_count": 11,
     "metadata": {},
     "output_type": "execute_result"
    },
    {
     "data": {
      "image/png": "[encoded data removed]",
      "text/plain": [
       "<Figure size 432x288 with 1 Axes>"
      ]
     },
     "metadata": {
      "needs_background": "light"
     },
     "output_type": "display_data"
    }
   ],
   "source": [
    "df['Product'].value_counts().plot(kind='kde')"
   ]
  },
  {
   "cell_type": "code",
   "execution_count": 12,
   "metadata": {},
   "outputs": [
    {
     "name": "stdout",
     "output_type": "stream",
     "text": [
      "<pandas.core.groupby.groupby.DataFrameGroupBy object at 0x000001EEDC968D30>\n"
     ]
    }
   ],
   "source": [
    "print(df.groupby('Product'))"
   ]
  },
  {
   "cell_type": "code",
   "execution_count": 13,
   "metadata": {},
   "outputs": [],
   "source": [
    "product = []\n",
    "switches = {'Credit reporting' :'Credit reporting, credit repair services, or other personal consumer reports',\n",
    "           'Prepaid card':'Credit card or prepaid card',\n",
    "           'Credit card':'Credit card or prepaid card' ,\n",
    "           'Payday loan' :'Payday loan, title loan, or personal loan' ,\n",
    "           'Money transfers' :'Money transfer, virtual currency, or money service',\n",
    "           'Virtual currency':'Money transfer, virtual currency, or money service' }\n",
    "\n",
    "for row in df['Product']:\n",
    "    product.append(switches.get(row, row))\n",
    "df['Product'] = product"
   ]
  },
  {
   "cell_type": "code",
   "execution_count": 14,
   "metadata": {},
   "outputs": [
    {
     "data": {
      "text/plain": [
       "Credit reporting, credit repair services, or other personal consumer reports    110161\n",
       "Debt collection                                                                  79881\n",
       "Mortgage                                                                         50259\n",
       "Credit card or prepaid card                                                      38324\n",
       "Student loan                                                                     20090\n",
       "Bank account or service                                                          14885\n",
       "Checking or savings account                                                      10769\n",
       "Consumer Loan                                                                     9474\n",
       "Money transfer, virtual currency, or money service                                6262\n",
       "Payday loan, title loan, or personal loan                                         5438\n",
       "Vehicle loan or lease                                                             4816\n",
       "Other financial service                                                            292\n",
       "Name: Product, dtype: int64"
      ]
     },
     "execution_count": 14,
     "metadata": {},
     "output_type": "execute_result"
    }
   ],
   "source": [
    "df['Product'].value_counts() "
   ]
  },
  {
   "cell_type": "code",
   "execution_count": 15,
   "metadata": {
    "scrolled": false
   },
   "outputs": [
    {
     "data": {
      "text/plain": [
       "<matplotlib.axes._subplots.AxesSubplot at 0x1eedcdadef0>"
      ]
     },
     "execution_count": 15,
     "metadata": {},
     "output_type": "execute_result"
    },
    {
     "data": {
      "image/png": "[encoded data removed]",
      "text/plain": [
       "<Figure size 432x288 with 1 Axes>"
      ]
     },
     "metadata": {
      "needs_background": "light"
     },
     "output_type": "display_data"
    }
   ],
   "source": [
    "df['Product'].value_counts().plot(kind='barh')"
   ]
  },
  {
   "cell_type": "code",
   "execution_count": 83,
   "metadata": {},
   "outputs": [
    {
     "data": {
      "image/png": "[encoded data removed]",
      "text/plain": [
       "<Figure size 576x432 with 1 Axes>"
      ]
     },
     "metadata": {},
     "output_type": "display_data"
    }
   ],
   "source": [
    "fig = plt.figure(figsize=(8,6))\n",
    "df.groupby('Product')['Consumer complaint narrative'].count().plot.pie(ylim=0)\n",
    "plt.show()"
   ]
  },
  {
   "cell_type": "code",
   "execution_count": 84,
   "metadata": {},
   "outputs": [],
   "source": [
    "df[\"Consumer complaint narrative\"] =  df[\"Consumer complaint narrative\"].map(lambda x: x.lower())"
   ]
  },
  {
   "cell_type": "code",
   "execution_count": 85,
   "metadata": {},
   "outputs": [],
   "source": [
    "from sklearn.feature_extraction import text\n",
    "punc = ['.', ',', '\"', \"'\", '?', '!', ':', ';', '(', ')', '[', ']', '{', '}',\"%\", 'xxxx', 'xx/xx/xxxx', 'xx', 'xxx']\n",
    "stop_words = text.ENGLISH_STOP_WORDS.union(punc)"
   ]
  },
  {
   "cell_type": "code",
   "execution_count": 103,
   "metadata": {},
   "outputs": [
    {
     "data": {
      "text/html": [
       "<div>\n",
       "<style scoped>\n",
       "    .dataframe tbody tr th:only-of-type {\n",
       "        vertical-align: middle;\n",
       "    }\n",
       "\n",
       "    .dataframe tbody tr th {\n",
       "        vertical-align: top;\n",
       "    }\n",
       "\n",
       "    .dataframe thead th {\n",
       "        text-align: right;\n",
       "    }\n",
       "</style>\n",
       "<table border=\"1\" class=\"dataframe\">\n",
       "  <thead>\n",
       "    <tr style=\"text-align: right;\">\n",
       "      <th></th>\n",
       "      <th>Consumer complaint narrative</th>\n",
       "      <th>Product</th>\n",
       "    </tr>\n",
       "  </thead>\n",
       "  <tbody>\n",
       "    <tr>\n",
       "      <th>225</th>\n",
       "      <td>im in complete shock about this negative item ...</td>\n",
       "      <td>Debt collection</td>\n",
       "    </tr>\n",
       "    <tr>\n",
       "      <th>249</th>\n",
       "      <td>this so called receivable performance fraudule...</td>\n",
       "      <td>Debt collection</td>\n",
       "    </tr>\n",
       "    <tr>\n",
       "      <th>287</th>\n",
       "      <td>creditor information monterey coll svc xxxx xx...</td>\n",
       "      <td>Credit reporting, credit repair services, or o...</td>\n",
       "    </tr>\n",
       "    <tr>\n",
       "      <th>331</th>\n",
       "      <td>elite financial has contacted myself and my fi...</td>\n",
       "      <td>Debt collection</td>\n",
       "    </tr>\n",
       "    <tr>\n",
       "      <th>534</th>\n",
       "      <td>i had sought to have some erroneous reporting ...</td>\n",
       "      <td>Credit reporting, credit repair services, or o...</td>\n",
       "    </tr>\n",
       "    <tr>\n",
       "      <th>538</th>\n",
       "      <td>ever since xxxx had a breach of their system t...</td>\n",
       "      <td>Credit reporting, credit repair services, or o...</td>\n",
       "    </tr>\n",
       "    <tr>\n",
       "      <th>665</th>\n",
       "      <td>on xx/xx/2018 an inquiry was made by xxxx cred...</td>\n",
       "      <td>Credit reporting, credit repair services, or o...</td>\n",
       "    </tr>\n",
       "    <tr>\n",
       "      <th>781</th>\n",
       "      <td>xx/xx/2018 i obtained xxxx as my mobile servic...</td>\n",
       "      <td>Debt collection</td>\n",
       "    </tr>\n",
       "    <tr>\n",
       "      <th>802</th>\n",
       "      <td>several companies listed inquires on my report...</td>\n",
       "      <td>Credit reporting, credit repair services, or o...</td>\n",
       "    </tr>\n",
       "    <tr>\n",
       "      <th>875</th>\n",
       "      <td>my loan was purchased by freedom mortgage in x...</td>\n",
       "      <td>Mortgage</td>\n",
       "    </tr>\n",
       "    <tr>\n",
       "      <th>914</th>\n",
       "      <td>positive credit account not reporting for xxxx...</td>\n",
       "      <td>Credit reporting, credit repair services, or o...</td>\n",
       "    </tr>\n",
       "    <tr>\n",
       "      <th>935</th>\n",
       "      <td>i am concerned about the validity and accuracy...</td>\n",
       "      <td>Debt collection</td>\n",
       "    </tr>\n",
       "    <tr>\n",
       "      <th>943</th>\n",
       "      <td>this specific debt collection agency ( united ...</td>\n",
       "      <td>Debt collection</td>\n",
       "    </tr>\n",
       "    <tr>\n",
       "      <th>1007</th>\n",
       "      <td>in the year of xx/xx/2012 i beleive, i was gra...</td>\n",
       "      <td>Credit card or prepaid card</td>\n",
       "    </tr>\n",
       "    <tr>\n",
       "      <th>1088</th>\n",
       "      <td>i am absolutely in disbelief that there are so...</td>\n",
       "      <td>Credit reporting, credit repair services, or o...</td>\n",
       "    </tr>\n",
       "    <tr>\n",
       "      <th>1089</th>\n",
       "      <td>my fico score is innacurately showing xxxx. it...</td>\n",
       "      <td>Credit reporting, credit repair services, or o...</td>\n",
       "    </tr>\n",
       "    <tr>\n",
       "      <th>1138</th>\n",
       "      <td>i contacted transunion through a certified let...</td>\n",
       "      <td>Credit reporting, credit repair services, or o...</td>\n",
       "    </tr>\n",
       "    <tr>\n",
       "      <th>1181</th>\n",
       "      <td>i received a notice from synergetic communicat...</td>\n",
       "      <td>Debt collection</td>\n",
       "    </tr>\n",
       "    <tr>\n",
       "      <th>1198</th>\n",
       "      <td>i have been trying to delete this 2 past due p...</td>\n",
       "      <td>Credit reporting, credit repair services, or o...</td>\n",
       "    </tr>\n",
       "    <tr>\n",
       "      <th>1207</th>\n",
       "      <td>on xx/xx/2018 i went into xxxx  xxxx xxxx to t...</td>\n",
       "      <td>Credit reporting, credit repair services, or o...</td>\n",
       "    </tr>\n",
       "    <tr>\n",
       "      <th>1209</th>\n",
       "      <td>i would like to request a security freeze plac...</td>\n",
       "      <td>Credit reporting, credit repair services, or o...</td>\n",
       "    </tr>\n",
       "    <tr>\n",
       "      <th>1213</th>\n",
       "      <td>i have been trying to delete this 2 past due p...</td>\n",
       "      <td>Credit reporting, credit repair services, or o...</td>\n",
       "    </tr>\n",
       "    <tr>\n",
       "      <th>1281</th>\n",
       "      <td>xxxx - i enrolled in xxxx  's xxxx credit secu...</td>\n",
       "      <td>Credit card or prepaid card</td>\n",
       "    </tr>\n",
       "    <tr>\n",
       "      <th>1301</th>\n",
       "      <td>i was a tenant at xxxx xxxx xxxx in xxxx. i ac...</td>\n",
       "      <td>Debt collection</td>\n",
       "    </tr>\n",
       "    <tr>\n",
       "      <th>1316</th>\n",
       "      <td>this company unlawfully inserted information o...</td>\n",
       "      <td>Credit reporting, credit repair services, or o...</td>\n",
       "    </tr>\n",
       "    <tr>\n",
       "      <th>1328</th>\n",
       "      <td>i have repeatedly tried to fix this problem wi...</td>\n",
       "      <td>Debt collection</td>\n",
       "    </tr>\n",
       "    <tr>\n",
       "      <th>1332</th>\n",
       "      <td>i previously notified you that i am a victim o...</td>\n",
       "      <td>Debt collection</td>\n",
       "    </tr>\n",
       "    <tr>\n",
       "      <th>1334</th>\n",
       "      <td>on xx/xx/2018 at xxxx xxxx xxxx we received a ...</td>\n",
       "      <td>Debt collection</td>\n",
       "    </tr>\n",
       "    <tr>\n",
       "      <th>1336</th>\n",
       "      <td>made several attempts to resolve this issue bu...</td>\n",
       "      <td>Debt collection</td>\n",
       "    </tr>\n",
       "    <tr>\n",
       "      <th>1337</th>\n",
       "      <td>on xxxx i pulled my three bureau credit report...</td>\n",
       "      <td>Debt collection</td>\n",
       "    </tr>\n",
       "    <tr>\n",
       "      <th>...</th>\n",
       "      <td>...</td>\n",
       "      <td>...</td>\n",
       "    </tr>\n",
       "    <tr>\n",
       "      <th>812406</th>\n",
       "      <td>i have an open and current mortgage with chase...</td>\n",
       "      <td>Mortgage</td>\n",
       "    </tr>\n",
       "    <tr>\n",
       "      <th>812408</th>\n",
       "      <td>experian refused to provide free annual credit...</td>\n",
       "      <td>Credit reporting, credit repair services, or o...</td>\n",
       "    </tr>\n",
       "    <tr>\n",
       "      <th>812410</th>\n",
       "      <td>a xxxx telemarketer claiming to be from midlan...</td>\n",
       "      <td>Debt collection</td>\n",
       "    </tr>\n",
       "    <tr>\n",
       "      <th>812412</th>\n",
       "      <td>my letter to mcm - midland credit management ,...</td>\n",
       "      <td>Debt collection</td>\n",
       "    </tr>\n",
       "    <tr>\n",
       "      <th>812414</th>\n",
       "      <td>this company continues to report on my credit ...</td>\n",
       "      <td>Debt collection</td>\n",
       "    </tr>\n",
       "    <tr>\n",
       "      <th>812416</th>\n",
       "      <td>shellpoint mortgage did not pay hazard insuran...</td>\n",
       "      <td>Mortgage</td>\n",
       "    </tr>\n",
       "    <tr>\n",
       "      <th>812418</th>\n",
       "      <td>i have never received any letter/documents fro...</td>\n",
       "      <td>Debt collection</td>\n",
       "    </tr>\n",
       "    <tr>\n",
       "      <th>812420</th>\n",
       "      <td>i was charged a fee both when i spoke with xxx...</td>\n",
       "      <td>Mortgage</td>\n",
       "    </tr>\n",
       "    <tr>\n",
       "      <th>812422</th>\n",
       "      <td>i have submitted xxxx disputes to trans union ...</td>\n",
       "      <td>Credit reporting, credit repair services, or o...</td>\n",
       "    </tr>\n",
       "    <tr>\n",
       "      <th>812424</th>\n",
       "      <td>i have a contract with a guy whom has an accou...</td>\n",
       "      <td>Bank account or service</td>\n",
       "    </tr>\n",
       "    <tr>\n",
       "      <th>812426</th>\n",
       "      <td>i mailed off several complaints to different a...</td>\n",
       "      <td>Debt collection</td>\n",
       "    </tr>\n",
       "    <tr>\n",
       "      <th>812428</th>\n",
       "      <td>i 'm receiving calls from a company who will n...</td>\n",
       "      <td>Payday loan, title loan, or personal loan</td>\n",
       "    </tr>\n",
       "    <tr>\n",
       "      <th>812430</th>\n",
       "      <td>my hamp loan was transferred to citimortgage a...</td>\n",
       "      <td>Mortgage</td>\n",
       "    </tr>\n",
       "    <tr>\n",
       "      <th>812432</th>\n",
       "      <td>we made several attempts to speak to someone a...</td>\n",
       "      <td>Debt collection</td>\n",
       "    </tr>\n",
       "    <tr>\n",
       "      <th>812434</th>\n",
       "      <td>i have been trying to get an audit of my accou...</td>\n",
       "      <td>Mortgage</td>\n",
       "    </tr>\n",
       "    <tr>\n",
       "      <th>812436</th>\n",
       "      <td>this dentist appt was back in 2012 and i was u...</td>\n",
       "      <td>Debt collection</td>\n",
       "    </tr>\n",
       "    <tr>\n",
       "      <th>812438</th>\n",
       "      <td>around xxxx we consolidated our loans and paid...</td>\n",
       "      <td>Consumer Loan</td>\n",
       "    </tr>\n",
       "    <tr>\n",
       "      <th>812440</th>\n",
       "      <td>citibank is calling and harassing me. i do not...</td>\n",
       "      <td>Credit card or prepaid card</td>\n",
       "    </tr>\n",
       "    <tr>\n",
       "      <th>812442</th>\n",
       "      <td>due to financial hardship, i have been unable ...</td>\n",
       "      <td>Student loan</td>\n",
       "    </tr>\n",
       "    <tr>\n",
       "      <th>812444</th>\n",
       "      <td>i have a car loan that i have paid over $ 8k b...</td>\n",
       "      <td>Consumer Loan</td>\n",
       "    </tr>\n",
       "    <tr>\n",
       "      <th>812446</th>\n",
       "      <td>i had a mortgage with xxxx xxxx xxxx from xxxx...</td>\n",
       "      <td>Mortgage</td>\n",
       "    </tr>\n",
       "    <tr>\n",
       "      <th>812448</th>\n",
       "      <td>i was studying in the xxxx last year and opene...</td>\n",
       "      <td>Bank account or service</td>\n",
       "    </tr>\n",
       "    <tr>\n",
       "      <th>812450</th>\n",
       "      <td>i have paid all copays and just rec 'd a bill ...</td>\n",
       "      <td>Debt collection</td>\n",
       "    </tr>\n",
       "    <tr>\n",
       "      <th>812452</th>\n",
       "      <td>my husband lost his job in xx/xx/xxxx and was ...</td>\n",
       "      <td>Student loan</td>\n",
       "    </tr>\n",
       "    <tr>\n",
       "      <th>812454</th>\n",
       "      <td>i feel behind on my credit card bills due to e...</td>\n",
       "      <td>Credit card or prepaid card</td>\n",
       "    </tr>\n",
       "    <tr>\n",
       "      <th>812456</th>\n",
       "      <td>in late xx/xx/xxxx or early xx/xx/xxxx i recei...</td>\n",
       "      <td>Credit card or prepaid card</td>\n",
       "    </tr>\n",
       "    <tr>\n",
       "      <th>812458</th>\n",
       "      <td>i have been receiving repeated calls from a pr...</td>\n",
       "      <td>Debt collection</td>\n",
       "    </tr>\n",
       "    <tr>\n",
       "      <th>812460</th>\n",
       "      <td>i never took any loan out, ever, from the comp...</td>\n",
       "      <td>Debt collection</td>\n",
       "    </tr>\n",
       "    <tr>\n",
       "      <th>812462</th>\n",
       "      <td>castle credit corporation, xxxx xxxx xxxx xxxx...</td>\n",
       "      <td>Consumer Loan</td>\n",
       "    </tr>\n",
       "    <tr>\n",
       "      <th>812464</th>\n",
       "      <td>i am writing this letter because my mortgage a...</td>\n",
       "      <td>Mortgage</td>\n",
       "    </tr>\n",
       "  </tbody>\n",
       "</table>\n",
       "<p>350651 rows × 2 columns</p>\n",
       "</div>"
      ],
      "text/plain": [
       "                             Consumer complaint narrative  \\\n",
       "225     im in complete shock about this negative item ...   \n",
       "249     this so called receivable performance fraudule...   \n",
       "287     creditor information monterey coll svc xxxx xx...   \n",
       "331     elite financial has contacted myself and my fi...   \n",
       "534     i had sought to have some erroneous reporting ...   \n",
       "538     ever since xxxx had a breach of their system t...   \n",
       "665     on xx/xx/2018 an inquiry was made by xxxx cred...   \n",
       "781     xx/xx/2018 i obtained xxxx as my mobile servic...   \n",
       "802     several companies listed inquires on my report...   \n",
       "875     my loan was purchased by freedom mortgage in x...   \n",
       "914     positive credit account not reporting for xxxx...   \n",
       "935     i am concerned about the validity and accuracy...   \n",
       "943     this specific debt collection agency ( united ...   \n",
       "1007    in the year of xx/xx/2012 i beleive, i was gra...   \n",
       "1088    i am absolutely in disbelief that there are so...   \n",
       "1089    my fico score is innacurately showing xxxx. it...   \n",
       "1138    i contacted transunion through a certified let...   \n",
       "1181    i received a notice from synergetic communicat...   \n",
       "1198    i have been trying to delete this 2 past due p...   \n",
       "1207    on xx/xx/2018 i went into xxxx  xxxx xxxx to t...   \n",
       "1209    i would like to request a security freeze plac...   \n",
       "1213    i have been trying to delete this 2 past due p...   \n",
       "1281    xxxx - i enrolled in xxxx  's xxxx credit secu...   \n",
       "1301    i was a tenant at xxxx xxxx xxxx in xxxx. i ac...   \n",
       "1316    this company unlawfully inserted information o...   \n",
       "1328    i have repeatedly tried to fix this problem wi...   \n",
       "1332    i previously notified you that i am a victim o...   \n",
       "1334    on xx/xx/2018 at xxxx xxxx xxxx we received a ...   \n",
       "1336    made several attempts to resolve this issue bu...   \n",
       "1337    on xxxx i pulled my three bureau credit report...   \n",
       "...                                                   ...   \n",
       "812406  i have an open and current mortgage with chase...   \n",
       "812408  experian refused to provide free annual credit...   \n",
       "812410  a xxxx telemarketer claiming to be from midlan...   \n",
       "812412  my letter to mcm - midland credit management ,...   \n",
       "812414  this company continues to report on my credit ...   \n",
       "812416  shellpoint mortgage did not pay hazard insuran...   \n",
       "812418  i have never received any letter/documents fro...   \n",
       "812420  i was charged a fee both when i spoke with xxx...   \n",
       "812422  i have submitted xxxx disputes to trans union ...   \n",
       "812424  i have a contract with a guy whom has an accou...   \n",
       "812426  i mailed off several complaints to different a...   \n",
       "812428  i 'm receiving calls from a company who will n...   \n",
       "812430  my hamp loan was transferred to citimortgage a...   \n",
       "812432  we made several attempts to speak to someone a...   \n",
       "812434  i have been trying to get an audit of my accou...   \n",
       "812436  this dentist appt was back in 2012 and i was u...   \n",
       "812438  around xxxx we consolidated our loans and paid...   \n",
       "812440  citibank is calling and harassing me. i do not...   \n",
       "812442  due to financial hardship, i have been unable ...   \n",
       "812444  i have a car loan that i have paid over $ 8k b...   \n",
       "812446  i had a mortgage with xxxx xxxx xxxx from xxxx...   \n",
       "812448  i was studying in the xxxx last year and opene...   \n",
       "812450  i have paid all copays and just rec 'd a bill ...   \n",
       "812452  my husband lost his job in xx/xx/xxxx and was ...   \n",
       "812454  i feel behind on my credit card bills due to e...   \n",
       "812456  in late xx/xx/xxxx or early xx/xx/xxxx i recei...   \n",
       "812458  i have been receiving repeated calls from a pr...   \n",
       "812460  i never took any loan out, ever, from the comp...   \n",
       "812462  castle credit corporation, xxxx xxxx xxxx xxxx...   \n",
       "812464  i am writing this letter because my mortgage a...   \n",
       "\n",
       "                                                  Product  \n",
       "225                                       Debt collection  \n",
       "249                                       Debt collection  \n",
       "287     Credit reporting, credit repair services, or o...  \n",
       "331                                       Debt collection  \n",
       "534     Credit reporting, credit repair services, or o...  \n",
       "538     Credit reporting, credit repair services, or o...  \n",
       "665     Credit reporting, credit repair services, or o...  \n",
       "781                                       Debt collection  \n",
       "802     Credit reporting, credit repair services, or o...  \n",
       "875                                              Mortgage  \n",
       "914     Credit reporting, credit repair services, or o...  \n",
       "935                                       Debt collection  \n",
       "943                                       Debt collection  \n",
       "1007                          Credit card or prepaid card  \n",
       "1088    Credit reporting, credit repair services, or o...  \n",
       "1089    Credit reporting, credit repair services, or o...  \n",
       "1138    Credit reporting, credit repair services, or o...  \n",
       "1181                                      Debt collection  \n",
       "1198    Credit reporting, credit repair services, or o...  \n",
       "1207    Credit reporting, credit repair services, or o...  \n",
       "1209    Credit reporting, credit repair services, or o...  \n",
       "1213    Credit reporting, credit repair services, or o...  \n",
       "1281                          Credit card or prepaid card  \n",
       "1301                                      Debt collection  \n",
       "1316    Credit reporting, credit repair services, or o...  \n",
       "1328                                      Debt collection  \n",
       "1332                                      Debt collection  \n",
       "1334                                      Debt collection  \n",
       "1336                                      Debt collection  \n",
       "1337                                      Debt collection  \n",
       "...                                                   ...  \n",
       "812406                                           Mortgage  \n",
       "812408  Credit reporting, credit repair services, or o...  \n",
       "812410                                    Debt collection  \n",
       "812412                                    Debt collection  \n",
       "812414                                    Debt collection  \n",
       "812416                                           Mortgage  \n",
       "812418                                    Debt collection  \n",
       "812420                                           Mortgage  \n",
       "812422  Credit reporting, credit repair services, or o...  \n",
       "812424                            Bank account or service  \n",
       "812426                                    Debt collection  \n",
       "812428          Payday loan, title loan, or personal loan  \n",
       "812430                                           Mortgage  \n",
       "812432                                    Debt collection  \n",
       "812434                                           Mortgage  \n",
       "812436                                    Debt collection  \n",
       "812438                                      Consumer Loan  \n",
       "812440                        Credit card or prepaid card  \n",
       "812442                                       Student loan  \n",
       "812444                                      Consumer Loan  \n",
       "812446                                           Mortgage  \n",
       "812448                            Bank account or service  \n",
       "812450                                    Debt collection  \n",
       "812452                                       Student loan  \n",
       "812454                        Credit card or prepaid card  \n",
       "812456                        Credit card or prepaid card  \n",
       "812458                                    Debt collection  \n",
       "812460                                    Debt collection  \n",
       "812462                                      Consumer Loan  \n",
       "812464                                           Mortgage  \n",
       "\n",
       "[350651 rows x 2 columns]"
      ]
     },
     "execution_count": 103,
     "metadata": {},
     "output_type": "execute_result"
    }
   ],
   "source": [
    "df"
   ]
  },
  {
   "cell_type": "code",
   "execution_count": 104,
   "metadata": {
    "scrolled": false
   },
   "outputs": [],
   "source": [
    "from sklearn.feature_extraction.text import TfidfVectorizer\n",
    "desc = df['Consumer complaint narrative'].values\n",
    "vectorizer = TfidfVectorizer(stop_words = stop_words, max_features=10000)\n",
    "features = vectorizer.fit_transform(desc)"
   ]
  },
  {
   "cell_type": "code",
   "execution_count": 130,
   "metadata": {},
   "outputs": [
    {
     "name": "stdout",
     "output_type": "stream",
     "text": [
      "(350651, 10000)\n",
      "[0.077667   0.13117233 0.11351092 ... 0.06955158 0.05005277 0.17973924]\n"
     ]
    }
   ],
   "source": [
    "print(features.shape)\n",
    "print(features.data)"
   ]
  },
  {
   "cell_type": "code",
   "execution_count": 109,
   "metadata": {},
   "outputs": [
    {
     "data": {
      "text/plain": [
       "\"im in complete shock about this negative item that continues to appear on my credit negatively. i have disputed this item with the credit reporting agency and they reported you confirmed the account as valid. i honestly do not believe to ever have any relationship with this collection agency or original creditor. also there are several inaccuracies with this account the way it's reporting and that's a total violation of fcra and fdcpa laws and regulations. in a good faith effort to resolve the matter amicably, i must demand proof of this debt, specifically the alleged contract or other instrument bearing my signature, as well as proof of your authority in this matter. absent such proof, you must correct any erroneous reports of this past debt as mine. i am writing to request that you please provide the following information : 1. please evidence your authorization under 15 usc 1692 ( e ) and 15 usc 1692 ( f ) in this alleged matter. 2. what is your authorization of law for your collection of information? 3. what is your authorization of law for your collection of this alleged debt? 4. please evidence your authorization to do business or operate in this state. 5. please evidence proof of the alleged debt, including the alleged contract or other instrument bearing my signature. 6. please provide a complete account history, including any charges added for collection activity.\""
      ]
     },
     "execution_count": 109,
     "metadata": {},
     "output_type": "execute_result"
    }
   ],
   "source": [
    "df.iloc[0,0]"
   ]
  },
  {
   "cell_type": "code",
   "execution_count": 120,
   "metadata": {},
   "outputs": [],
   "source": [
    "from nltk.stem import PorterStemmer\n",
    "ps = PorterStemmer()\n",
    "texts = []\n",
    "for row in df['Consumer complaint narrative']:\n",
    "    stem_sent = []\n",
    "    for word in row.split():\n",
    "        stem_sent.append(ps.stem(word))\n",
    "        stem_sent.append(' ')\n",
    "    stem_sent =  ''.join(stem_sent)   \n",
    "    texts.append(stem_sent)\n",
    "df['Consumer complaint narrative'] = texts"
   ]
  },
  {
   "cell_type": "code",
   "execution_count": 121,
   "metadata": {},
   "outputs": [
    {
     "data": {
      "text/plain": [
       "\"im in complet shock about thi neg item that continu to appear on my credit negatively. i have disput thi item with the credit report agenc and they report you confirm the account as valid. i honestli do not believ to ever have ani relationship with thi collect agenc or origin creditor. also there are sever inaccuraci with thi account the way it' report and that' a total violat of fcra and fdcpa law and regulations. in a good faith effort to resolv the matter amicably, i must demand proof of thi debt, specif the alleg contract or other instrument bear my signature, as well as proof of your author in thi matter. absent such proof, you must correct ani erron report of thi past debt as mine. i am write to request that you pleas provid the follow inform : 1. pleas evid your author under 15 usc 1692 ( e ) and 15 usc 1692 ( f ) in thi alleg matter. 2. what is your author of law for your collect of information? 3. what is your author of law for your collect of thi alleg debt? 4. pleas evid your author to do busi or oper in thi state. 5. pleas evid proof of the alleg debt, includ the alleg contract or other instrument bear my signature. 6. pleas provid a complet account history, includ ani charg ad for collect activity. \""
      ]
     },
     "execution_count": 121,
     "metadata": {},
     "output_type": "execute_result"
    }
   ],
   "source": [
    "df.iloc[0,0]"
   ]
  },
  {
   "cell_type": "code",
   "execution_count": 11,
   "metadata": {},
   "outputs": [],
   "source": [
    "import pickle\n",
    "with open('X_resampled_final.pickle', 'rb') as file:\n",
    "    X = pickle.load(file)\n",
    "\n",
    "with open('y_resampled_final.pickle', 'rb') as file:\n",
    "    Y = pickle.load(file)"
   ]
  },
  {
   "cell_type": "code",
   "execution_count": 41,
   "metadata": {},
   "outputs": [
    {
     "data": {
      "text/plain": [
       "<1437858x10000 sparse matrix of type '<class 'numpy.float64'>'\n",
       "\twith 137920062 stored elements in Compressed Sparse Row format>"
      ]
     },
     "execution_count": 41,
     "metadata": {},
     "output_type": "execute_result"
    }
   ],
   "source": [
    "X"
   ]
  },
  {
   "cell_type": "code",
   "execution_count": 35,
   "metadata": {},
   "outputs": [
    {
     "data": {
      "text/plain": [
       "350651"
      ]
     },
     "execution_count": 35,
     "metadata": {},
     "output_type": "execute_result"
    }
   ],
   "source": [
    "len(df)"
   ]
  },
  {
   "cell_type": "code",
   "execution_count": 14,
   "metadata": {},
   "outputs": [
    {
     "data": {
      "image/png": "[encoded data removed]",
      "text/plain": [
       "<Figure size 432x288 with 1 Axes>"
      ]
     },
     "metadata": {
      "needs_background": "light"
     },
     "output_type": "display_data"
    }
   ],
   "source": [
    "import matplotlib.pyplot as plt\n",
    "plt.title(\"Histogram after pre-processing\")\n",
    "plt.hist(Y, bins='auto', color='green')\n",
    "plt.show()"
   ]
  },
  {
   "cell_type": "code",
   "execution_count": 43,
   "metadata": {},
   "outputs": [
    {
     "ename": "ValueError",
     "evalue": "x and y must be the same size",
     "output_type": "error",
     "traceback": [
      "\u001b[1;31m---------------------------------------------------------------------------\u001b[0m",
      "\u001b[1;31mValueError\u001b[0m                                Traceback (most recent call last)",
      "\u001b[1;32m<ipython-input-43-1dafd5952410>\u001b[0m in \u001b[0;36m<module>\u001b[1;34m()\u001b[0m\n\u001b[1;32m----> 1\u001b[1;33m \u001b[0mplt\u001b[0m\u001b[1;33m.\u001b[0m\u001b[0mscatter\u001b[0m\u001b[1;33m(\u001b[0m\u001b[0mX\u001b[0m\u001b[1;33m.\u001b[0m\u001b[0mdata\u001b[0m\u001b[1;33m,\u001b[0m\u001b[0mY\u001b[0m\u001b[1;33m)\u001b[0m\u001b[1;33m\u001b[0m\u001b[0m\n\u001b[0m\u001b[0;32m      2\u001b[0m \u001b[0mplt\u001b[0m\u001b[1;33m.\u001b[0m\u001b[0mshow\u001b[0m\u001b[1;33m(\u001b[0m\u001b[1;33m)\u001b[0m\u001b[1;33m\u001b[0m\u001b[0m\n",
      "\u001b[1;32m~\\Anaconda3\\lib\\site-packages\\matplotlib\\pyplot.py\u001b[0m in \u001b[0;36mscatter\u001b[1;34m(x, y, s, c, marker, cmap, norm, vmin, vmax, alpha, linewidths, verts, edgecolors, hold, data, **kwargs)\u001b[0m\n\u001b[0;32m   3473\u001b[0m                          \u001b[0mvmin\u001b[0m\u001b[1;33m=\u001b[0m\u001b[0mvmin\u001b[0m\u001b[1;33m,\u001b[0m \u001b[0mvmax\u001b[0m\u001b[1;33m=\u001b[0m\u001b[0mvmax\u001b[0m\u001b[1;33m,\u001b[0m \u001b[0malpha\u001b[0m\u001b[1;33m=\u001b[0m\u001b[0malpha\u001b[0m\u001b[1;33m,\u001b[0m\u001b[1;33m\u001b[0m\u001b[0m\n\u001b[0;32m   3474\u001b[0m                          \u001b[0mlinewidths\u001b[0m\u001b[1;33m=\u001b[0m\u001b[0mlinewidths\u001b[0m\u001b[1;33m,\u001b[0m \u001b[0mverts\u001b[0m\u001b[1;33m=\u001b[0m\u001b[0mverts\u001b[0m\u001b[1;33m,\u001b[0m\u001b[1;33m\u001b[0m\u001b[0m\n\u001b[1;32m-> 3475\u001b[1;33m                          edgecolors=edgecolors, data=data, **kwargs)\n\u001b[0m\u001b[0;32m   3476\u001b[0m     \u001b[1;32mfinally\u001b[0m\u001b[1;33m:\u001b[0m\u001b[1;33m\u001b[0m\u001b[0m\n\u001b[0;32m   3477\u001b[0m         \u001b[0max\u001b[0m\u001b[1;33m.\u001b[0m\u001b[0m_hold\u001b[0m \u001b[1;33m=\u001b[0m \u001b[0mwashold\u001b[0m\u001b[1;33m\u001b[0m\u001b[0m\n",
      "\u001b[1;32m~\\Anaconda3\\lib\\site-packages\\matplotlib\\__init__.py\u001b[0m in \u001b[0;36minner\u001b[1;34m(ax, *args, **kwargs)\u001b[0m\n\u001b[0;32m   1865\u001b[0m                         \u001b[1;34m\"the Matplotlib list!)\"\u001b[0m \u001b[1;33m%\u001b[0m \u001b[1;33m(\u001b[0m\u001b[0mlabel_namer\u001b[0m\u001b[1;33m,\u001b[0m \u001b[0mfunc\u001b[0m\u001b[1;33m.\u001b[0m\u001b[0m__name__\u001b[0m\u001b[1;33m)\u001b[0m\u001b[1;33m,\u001b[0m\u001b[1;33m\u001b[0m\u001b[0m\n\u001b[0;32m   1866\u001b[0m                         RuntimeWarning, stacklevel=2)\n\u001b[1;32m-> 1867\u001b[1;33m             \u001b[1;32mreturn\u001b[0m \u001b[0mfunc\u001b[0m\u001b[1;33m(\u001b[0m\u001b[0max\u001b[0m\u001b[1;33m,\u001b[0m \u001b[1;33m*\u001b[0m\u001b[0margs\u001b[0m\u001b[1;33m,\u001b[0m \u001b[1;33m**\u001b[0m\u001b[0mkwargs\u001b[0m\u001b[1;33m)\u001b[0m\u001b[1;33m\u001b[0m\u001b[0m\n\u001b[0m\u001b[0;32m   1868\u001b[0m \u001b[1;33m\u001b[0m\u001b[0m\n\u001b[0;32m   1869\u001b[0m         inner.__doc__ = _add_data_doc(inner.__doc__,\n",
      "\u001b[1;32m~\\Anaconda3\\lib\\site-packages\\matplotlib\\axes\\_axes.py\u001b[0m in \u001b[0;36mscatter\u001b[1;34m(self, x, y, s, c, marker, cmap, norm, vmin, vmax, alpha, linewidths, verts, edgecolors, **kwargs)\u001b[0m\n\u001b[0;32m   4255\u001b[0m         \u001b[0my\u001b[0m \u001b[1;33m=\u001b[0m \u001b[0mnp\u001b[0m\u001b[1;33m.\u001b[0m\u001b[0mma\u001b[0m\u001b[1;33m.\u001b[0m\u001b[0mravel\u001b[0m\u001b[1;33m(\u001b[0m\u001b[0my\u001b[0m\u001b[1;33m)\u001b[0m\u001b[1;33m\u001b[0m\u001b[0m\n\u001b[0;32m   4256\u001b[0m         \u001b[1;32mif\u001b[0m \u001b[0mx\u001b[0m\u001b[1;33m.\u001b[0m\u001b[0msize\u001b[0m \u001b[1;33m!=\u001b[0m \u001b[0my\u001b[0m\u001b[1;33m.\u001b[0m\u001b[0msize\u001b[0m\u001b[1;33m:\u001b[0m\u001b[1;33m\u001b[0m\u001b[0m\n\u001b[1;32m-> 4257\u001b[1;33m             \u001b[1;32mraise\u001b[0m \u001b[0mValueError\u001b[0m\u001b[1;33m(\u001b[0m\u001b[1;34m\"x and y must be the same size\"\u001b[0m\u001b[1;33m)\u001b[0m\u001b[1;33m\u001b[0m\u001b[0m\n\u001b[0m\u001b[0;32m   4258\u001b[0m \u001b[1;33m\u001b[0m\u001b[0m\n\u001b[0;32m   4259\u001b[0m         \u001b[1;32mif\u001b[0m \u001b[0ms\u001b[0m \u001b[1;32mis\u001b[0m \u001b[1;32mNone\u001b[0m\u001b[1;33m:\u001b[0m\u001b[1;33m\u001b[0m\u001b[0m\n",
      "\u001b[1;31mValueError\u001b[0m: x and y must be the same size"
     ]
    },
    {
     "data": {
      "image/png": "[encoded data removed]",
      "text/plain": [
       "<Figure size 432x288 with 1 Axes>"
      ]
     },
     "metadata": {
      "needs_background": "light"
     },
     "output_type": "display_data"
    }
   ],
   "source": [
    "plt.scatter(X.max,Y)\n",
    "plt.show()"
   ]
  },
  {
   "cell_type": "code",
   "execution_count": null,
   "metadata": {},
   "outputs": [],
   "source": [
    "import numpy as np\n",
    "import matplotlib.pyplot as plt\n",
    "from sklearn import svm\n",
    "\n",
    "\n",
    "fig, ax = plt.subplots()\n",
    "clf2 = svm.LinearSVC(C=1).fit(X, Y)\n",
    "\n",
    "# get the separating hyperplane\n",
    "w = clf2.coef_[0]\n",
    "a = -w[0] / w[1]\n",
    "xx = np.linspace(-5, 5)\n",
    "yy = a * xx - (clf2.intercept_[0]) / w[1]\n",
    "\n",
    "# create a mesh to plot in\n",
    "x_min, x_max = X[:, 0].min() - 1, X[:, 0].max() + 1\n",
    "y_min, y_max = X[:, 1].min() - 1, X[:, 1].max() + 1\n",
    "xx2, yy2 = np.meshgrid(np.arange(x_min, x_max, .2),\n",
    "                     np.arange(y_min, y_max, .2))\n",
    "Z = clf2.predict(np.c_[xx2.ravel(), yy2.ravel()])\n",
    "\n",
    "Z = Z.reshape(xx2.shape)\n",
    "ax.contourf(xx2, yy2, Z, cmap=plt.cm.coolwarm, alpha=0.3)\n",
    "ax.scatter(X[:, 0], X[:, 1], c=Y, cmap=plt.cm.coolwarm, s=25)\n",
    "ax.plot(xx,yy)\n",
    "\n",
    "ax.axis([x_min, x_max,y_min, y_max])\n",
    "plt.show()"
   ]
  },
  {
   "cell_type": "code",
   "execution_count": null,
   "metadata": {},
   "outputs": [],
   "source": []
  },
  {
   "cell_type": "code",
   "execution_count": 139,
   "metadata": {},
   "outputs": [],
   "source": []
  },
  {
   "cell_type": "code",
   "execution_count": 164,
   "metadata": {},
   "outputs": [
    {
     "data": {
      "image/png": "[encoded data removed]",
      "text/plain": [
       "<Figure size 432x288 with 1 Axes>"
      ]
     },
     "metadata": {
      "needs_background": "light"
     },
     "output_type": "display_data"
    }
   ],
   "source": []
  },
  {
   "cell_type": "code",
   "execution_count": null,
   "metadata": {},
   "outputs": [],
   "source": []
  }
 ],
 "metadata": {
  "kernelspec": {
   "display_name": "Python 3",
   "language": "python",
   "name": "python3"
  },
  "language_info": {
   "codemirror_mode": {
    "name": "ipython",
    "version": 3
   },
   "file_extension": ".py",
   "mimetype": "text/x-python",
   "name": "python",
   "nbconvert_exporter": "python",
   "pygments_lexer": "ipython3",
   "version": "3.7.0"
  }
 },
 "nbformat": 4,
 "nbformat_minor": 2
}
